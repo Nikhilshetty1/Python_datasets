{
 "cells": [
  {
   "cell_type": "code",
   "execution_count": 2,
   "metadata": {},
   "outputs": [
    {
     "name": "stdout",
     "output_type": "stream",
     "text": [
      "Enter a number:99\n",
      "The square root is9.9498743710662\n"
     ]
    }
   ],
   "source": [
    "#Write a program find square root of a number.\n",
    "num=int(input(\"Enter a number:\"))\n",
    "num_sqrt= num ** 0.5\n",
    "print(\"The square root is\"+ str(num_sqrt))\n"
   ]
  },
  {
   "cell_type": "code",
   "execution_count": 3,
   "metadata": {},
   "outputs": [
    {
     "name": "stdout",
     "output_type": "stream",
     "text": [
      "Enter a number:43\n",
      "Enter a number:34\n",
      "Area of trianglr is731.0\n"
     ]
    }
   ],
   "source": [
    "#Python Program to find the area of triangle\n",
    "length=int(input(\"Enter a number:\"))\n",
    "breadth=int(input(\"Enter a number:\"))\n",
    "area= 0.5*length*breadth\n",
    "print(\"Area of trianglr is\"+ str(area))\n"
   ]
  },
  {
   "cell_type": "code",
   "execution_count": 8,
   "metadata": {},
   "outputs": [
    {
     "name": "stdout",
     "output_type": "stream",
     "text": [
      "Enter num1:-6\n",
      "Enter num2:4\n",
      "4 -6\n"
     ]
    }
   ],
   "source": [
    "#Python program to swap two variables provided by the user without temporary variable\n",
    "x=int(input(\"Enter num1:\"))\n",
    "y=int(input(\"Enter num2:\"))\n",
    "'''x = x + y\n",
    "y = x - y\n",
    "x = x - y'''\n",
    "x,y=y,x\n",
    "print(x,y)"
   ]
  },
  {
   "cell_type": "code",
   "execution_count": 3,
   "metadata": {},
   "outputs": [
    {
     "name": "stdout",
     "output_type": "stream",
     "text": [
      "Enter a year: 2000\n",
      "2000is a leap year\n"
     ]
    }
   ],
   "source": [
    "#Python program to check if the input year is a leap year or not\n",
    "year = int(input(\"Enter a year: \"))\n",
    "\n",
    "if (year % 4) == 0:\n",
    "   if (year % 100) == 0:\n",
    "       if (year % 400) == 0:\n",
    "           print(str(year)+ \"is a leap year\")\n",
    "       else:\n",
    "           print(str(year)+ \"is not a leap year\")\n",
    "   else:\n",
    "       print(str(year)+ \"is a leap year\")\n",
    "else:\n",
    "   print(str(year)+ \"is not a leap year\")"
   ]
  },
  {
   "cell_type": "code",
   "execution_count": 4,
   "metadata": {},
   "outputs": [
    {
     "name": "stdout",
     "output_type": "stream",
     "text": [
      "No of digits: 5\n",
      "Fibonacci sequence upto 5 :\n",
      "0 , 1 , 1 , 2 , 3 , "
     ]
    }
   ],
   "source": [
    "#Program to display the #Fibonacci sequence up to n-th term where n is provided by the user\n",
    "no_of_digits = int(input(\"No of digits: \"))\n",
    "\n",
    "n1 = 0\n",
    "n2 = 1\n",
    "count = 0\n",
    "\n",
    "if no_of_digits <= 0:\n",
    "   print(\"Please enter a positive integer\")\n",
    "elif no_of_digits == 1:\n",
    "   print(\"Fibonacci sequence upto\",no_of_digits,\":\")\n",
    "   print(n1)\n",
    "else:\n",
    "   print(\"Fibonacci sequence upto\",no_of_digits,\":\")\n",
    "   while count < no_of_digits:\n",
    "       print(n1,end=' , ')\n",
    "       nth = n1 + n2\n",
    "       n1 = n2\n",
    "       n2 = nth\n",
    "       count += 1"
   ]
  },
  {
   "cell_type": "code",
   "execution_count": 5,
   "metadata": {},
   "outputs": [
    {
     "name": "stdout",
     "output_type": "stream",
     "text": [
      "Enter a number: 45\n",
      "45 is not an Armstrong number\n"
     ]
    }
   ],
   "source": [
    "#Python program to check if the number provided by the user is an Armstrong number or not\n",
    "num = int(input(\"Enter a number: \"))\n",
    "\n",
    "sum = 0\n",
    "temp = num\n",
    "while temp > 0:\n",
    "   digit = temp % 10\n",
    "   sum += digit ** 3\n",
    "   temp //= 10\n",
    "\n",
    "if num == sum:\n",
    "   print(num,\"is an Armstrong number\")\n",
    "else:\n",
    "   print(num,\"is not an Armstrong number\")"
   ]
  },
  {
   "cell_type": "code",
   "execution_count": 9,
   "metadata": {},
   "outputs": [
    {
     "ename": "SyntaxError",
     "evalue": "invalid syntax (<ipython-input-9-4b663c539d2e>, line 2)",
     "output_type": "error",
     "traceback": [
      "\u001b[1;36m  File \u001b[1;32m\"<ipython-input-9-4b663c539d2e>\"\u001b[1;36m, line \u001b[1;32m2\u001b[0m\n\u001b[1;33m    import lambda\u001b[0m\n\u001b[1;37m                ^\u001b[0m\n\u001b[1;31mSyntaxError\u001b[0m\u001b[1;31m:\u001b[0m invalid syntax\n"
     ]
    }
   ],
   "source": [
    "#Python Program to display the powers of 2 using anonymous function\n",
    "import lambda\n",
    "no_of_digits = int(input(\"No of digits: \"))\n",
    "\n",
    "# use anonymous function\n",
    "result = list(map(lambda x: 2 ** x, range(no_of_digits)))\n",
    "\n",
    "# display the result\n",
    "\n",
    "print(\"The total terms is:\",no_of_digits)\n",
    "for i in range(no_of_digits):\n",
    "   print(\"2 raised to power\",i,\"is\",result[i])"
   ]
  }
 ],
 "metadata": {
  "kernelspec": {
   "display_name": "Python 3",
   "language": "python",
   "name": "python3"
  },
  "language_info": {
   "codemirror_mode": {
    "name": "ipython",
    "version": 3
   },
   "file_extension": ".py",
   "mimetype": "text/x-python",
   "name": "python",
   "nbconvert_exporter": "python",
   "pygments_lexer": "ipython3",
   "version": "3.6.4"
  }
 },
 "nbformat": 4,
 "nbformat_minor": 2
}
